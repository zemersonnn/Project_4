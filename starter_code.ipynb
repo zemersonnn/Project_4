{
 "cells": [
  {
   "cell_type": "code",
   "execution_count": 1,
   "metadata": {},
   "outputs": [],
   "source": [
    "# Import libraries\n",
    "import pandas as pd\n",
    "import matplotlib.pyplot as plt\n",
    "import seaborn as sns"
   ]
  },
  {
   "cell_type": "code",
   "execution_count": 3,
   "metadata": {},
   "outputs": [
    {
     "name": "stdout",
     "output_type": "stream",
     "text": [
      "   SquareFeet  Bedrooms  Bathrooms Neighborhood  YearBuilt          Price\n",
      "0        2126         4          1        Rural       1969  215355.283618\n",
      "1        2459         3          2        Rural       1980  195014.221626\n",
      "2        1860         2          1       Suburb       1970  306891.012076\n",
      "3        2294         2          1        Urban       1996  206786.787153\n",
      "4        2130         5          2       Suburb       2001  272436.239065\n"
     ]
    }
   ],
   "source": [
    "# Read in datasets \n",
    "dataset1 = pd.read_csv(\"dataset_1.csv\")\n",
    "\n",
    "# Print head\n",
    "print(dataset1.head())"
   ]
  }
 ],
 "metadata": {
  "kernelspec": {
   "display_name": "dev",
   "language": "python",
   "name": "python3"
  },
  "language_info": {
   "codemirror_mode": {
    "name": "ipython",
    "version": 3
   },
   "file_extension": ".py",
   "mimetype": "text/x-python",
   "name": "python",
   "nbconvert_exporter": "python",
   "pygments_lexer": "ipython3",
   "version": "3.10.13"
  }
 },
 "nbformat": 4,
 "nbformat_minor": 2
}
