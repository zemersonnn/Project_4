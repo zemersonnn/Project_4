{
 "cells": [
  {
   "cell_type": "code",
   "execution_count": 1,
   "metadata": {},
   "outputs": [
    {
     "name": "stdout",
     "output_type": "stream",
     "text": [
      "WARNING:tensorflow:From c:\\Users\\emers\\anaconda3\\envs\\dev\\lib\\site-packages\\keras\\src\\losses.py:2976: The name tf.losses.sparse_softmax_cross_entropy is deprecated. Please use tf.compat.v1.losses.sparse_softmax_cross_entropy instead.\n",
      "\n"
     ]
    }
   ],
   "source": [
    "# import our dependencies\n",
    "import pandas as pd\n",
    "import matplotlib.pyplot as plt\n",
    "import sklearn as skl\n",
    "import tensorflow as tf\n",
    "import numpy as np"
   ]
  },
  {
   "cell_type": "code",
   "execution_count": 8,
   "metadata": {},
   "outputs": [],
   "source": [
    "# import dataset\n",
    "from tensorflow.keras.datasets import boston_housing"
   ]
  },
  {
   "cell_type": "code",
   "execution_count": 9,
   "metadata": {},
   "outputs": [],
   "source": [
    "# adding in sql lite\n",
    "import sqlite3"
   ]
  },
  {
   "cell_type": "code",
   "execution_count": 13,
   "metadata": {},
   "outputs": [],
   "source": [
    "# create a connection to database\n",
    "conn = sqlite3.connect('boston_housing.db')"
   ]
  },
  {
   "cell_type": "code",
   "execution_count": 14,
   "metadata": {},
   "outputs": [],
   "source": [
    "# execute query \n",
    "query = 'SELECT name FROM sqlite_master WHERE type=\"table\";'\n",
    "table_names_df = pd.read_sql_query(query, conn)\n"
   ]
  },
  {
   "cell_type": "code",
   "execution_count": 15,
   "metadata": {},
   "outputs": [
    {
     "name": "stdout",
     "output_type": "stream",
     "text": [
      "Series([], Name: name, dtype: object)\n"
     ]
    }
   ],
   "source": [
    "# print table names \n",
    "print(table_names_df['name'])"
   ]
  },
  {
   "cell_type": "code",
   "execution_count": 16,
   "metadata": {},
   "outputs": [],
   "source": [
    "# close connection\n",
    "conn.close()"
   ]
  },
  {
   "cell_type": "code",
   "execution_count": 17,
   "metadata": {},
   "outputs": [],
   "source": [
    "# load the data \n",
    "(train_data, train_targets), (test_data, test_targets) = boston_housing.load_data()"
   ]
  },
  {
   "cell_type": "code",
   "execution_count": 36,
   "metadata": {},
   "outputs": [],
   "source": [
    "# The Boston Housing dataset contains information about housing \n",
    "# prices in the Boston area. It includes features such as crime rate, \n",
    "# average number of rooms per dwelling, and more. "
   ]
  },
  {
   "cell_type": "code",
   "execution_count": 18,
   "metadata": {},
   "outputs": [],
   "source": [
    "# import libraries \n",
    "from sklearn.model_selection import train_test_split"
   ]
  },
  {
   "cell_type": "code",
   "execution_count": 28,
   "metadata": {},
   "outputs": [],
   "source": [
    "# split the data into 80% training and 20% test \n",
    "X_train, X_test, y_train, y_test = train_test_split(\n",
    "    train_data, train_targets, test_size=0.2, random_state=42)"
   ]
  },
  {
   "cell_type": "code",
   "execution_count": 29,
   "metadata": {},
   "outputs": [
    {
     "name": "stdout",
     "output_type": "stream",
     "text": [
      "Training data shape: (323, 13)\n",
      "Test data shape: (81, 13)\n",
      "Training targets shape: (323,)\n",
      "Test targets shape: (81,)\n"
     ]
    }
   ],
   "source": [
    "# print the shapes of the resulting datasets. \n",
    "print(f\"Training data shape: {X_train.shape}\")\n",
    "print(f\"Test data shape: {X_test.shape}\")\n",
    "print(f\"Training targets shape: {y_train.shape}\")\n",
    "print(f\"Test targets shape: {y_test.shape}\")"
   ]
  },
  {
   "cell_type": "code",
   "execution_count": 40,
   "metadata": {},
   "outputs": [],
   "source": [
    "# training data shape describes the number of samples (data points) and the number\n",
    "# of features (variables) in the training dataset. \n",
    "# we have 323 houses and 13 features for each house in this dataset. "
   ]
  },
  {
   "cell_type": "code",
   "execution_count": 41,
   "metadata": {},
   "outputs": [],
   "source": [
    "# test data shape \n",
    "# refers to the dimensions or structure of the dataset used for evaluating\n",
    "# the performance of a machine learning model. \n",
    "# we have 81 samples (houses) and 13 features (variables) \n",
    "# the 13 features are represented as columns in a tabular dataset. "
   ]
  },
  {
   "cell_type": "code",
   "execution_count": 21,
   "metadata": {},
   "outputs": [
    {
     "name": "stdout",
     "output_type": "stream",
     "text": [
      "WARNING:tensorflow:From c:\\Users\\emers\\anaconda3\\envs\\dev\\lib\\site-packages\\keras\\src\\backend.py:873: The name tf.get_default_graph is deprecated. Please use tf.compat.v1.get_default_graph instead.\n",
      "\n"
     ]
    }
   ],
   "source": [
    "# import \n",
    "import tensorflow as tf\n",
    "from tensorflow.keras.models import Sequential\n",
    "from tensorflow.keras.layers import Dense \n",
    "\n",
    "# create a sequential model \n",
    "model = Sequential()"
   ]
  },
  {
   "cell_type": "code",
   "execution_count": 22,
   "metadata": {},
   "outputs": [],
   "source": [
    "# add layers to the model \n",
    "model.add(Dense(units=64, activation='relu', input_shape=(13,))) # input layer # 13 because data has 13 features\n",
    "model.add(Dense(units=32, activation='relu')) # hidden layer\n",
    "model.add(Dense(units=1)) # output layer # chose 1 because performing regression # no activation function because its a regression task"
   ]
  },
  {
   "cell_type": "code",
   "execution_count": 23,
   "metadata": {},
   "outputs": [
    {
     "name": "stdout",
     "output_type": "stream",
     "text": [
      "WARNING:tensorflow:From c:\\Users\\emers\\anaconda3\\envs\\dev\\lib\\site-packages\\keras\\src\\optimizers\\__init__.py:309: The name tf.train.Optimizer is deprecated. Please use tf.compat.v1.train.Optimizer instead.\n",
      "\n"
     ]
    }
   ],
   "source": [
    "# compile the model \n",
    "model.compile(optimizer='adam', loss='mean_squared_error', metrics=['mae'])"
   ]
  },
  {
   "cell_type": "code",
   "execution_count": null,
   "metadata": {},
   "outputs": [],
   "source": [
    "# optimizer = adam \n",
    "# loss function is the mean squared error (MSE). this measures the average\n",
    "# squared difference between the predicted values and the actual target values\n",
    "# metrics = MAE which stands for mean absolute error. MAE represents the \n",
    "# average absolute difference between predicted and actual values. "
   ]
  },
  {
   "cell_type": "code",
   "execution_count": 24,
   "metadata": {},
   "outputs": [
    {
     "name": "stdout",
     "output_type": "stream",
     "text": [
      "Model: \"sequential\"\n",
      "_________________________________________________________________\n",
      " Layer (type)                Output Shape              Param #   \n",
      "=================================================================\n",
      " dense (Dense)               (None, 64)                896       \n",
      "                                                                 \n",
      " dense_1 (Dense)             (None, 32)                2080      \n",
      "                                                                 \n",
      " dense_2 (Dense)             (None, 1)                 33        \n",
      "                                                                 \n",
      "=================================================================\n",
      "Total params: 3009 (11.75 KB)\n",
      "Trainable params: 3009 (11.75 KB)\n",
      "Non-trainable params: 0 (0.00 Byte)\n",
      "_________________________________________________________________\n"
     ]
    }
   ],
   "source": [
    "# summary of the model\n",
    "model.summary()"
   ]
  },
  {
   "cell_type": "code",
   "execution_count": 25,
   "metadata": {},
   "outputs": [
    {
     "name": "stdout",
     "output_type": "stream",
     "text": [
      "Epoch 1/100\n",
      "WARNING:tensorflow:From c:\\Users\\emers\\anaconda3\\envs\\dev\\lib\\site-packages\\keras\\src\\utils\\tf_utils.py:492: The name tf.ragged.RaggedTensorValue is deprecated. Please use tf.compat.v1.ragged.RaggedTensorValue instead.\n",
      "\n",
      "WARNING:tensorflow:From c:\\Users\\emers\\anaconda3\\envs\\dev\\lib\\site-packages\\keras\\src\\engine\\base_layer_utils.py:384: The name tf.executing_eagerly_outside_functions is deprecated. Please use tf.compat.v1.executing_eagerly_outside_functions instead.\n",
      "\n",
      "9/9 [==============================] - 2s 44ms/step - loss: 787.9500 - mae: 23.5189 - val_loss: 222.4841 - val_mae: 11.7757\n",
      "Epoch 2/100\n",
      "9/9 [==============================] - 0s 10ms/step - loss: 136.4230 - mae: 8.5740 - val_loss: 128.5590 - val_mae: 8.1007\n",
      "Epoch 3/100\n",
      "9/9 [==============================] - 0s 10ms/step - loss: 135.0061 - mae: 9.3193 - val_loss: 105.9967 - val_mae: 8.6088\n",
      "Epoch 4/100\n",
      "9/9 [==============================] - 0s 10ms/step - loss: 98.1919 - mae: 7.7255 - val_loss: 87.7947 - val_mae: 6.3598\n",
      "Epoch 5/100\n",
      "9/9 [==============================] - 0s 9ms/step - loss: 79.7687 - mae: 6.5031 - val_loss: 85.8554 - val_mae: 6.7331\n",
      "Epoch 6/100\n",
      "9/9 [==============================] - 0s 18ms/step - loss: 78.9158 - mae: 6.1312 - val_loss: 80.6902 - val_mae: 6.3129\n",
      "Epoch 7/100\n",
      "9/9 [==============================] - 0s 9ms/step - loss: 72.7440 - mae: 6.3684 - val_loss: 76.9420 - val_mae: 5.9020\n",
      "Epoch 8/100\n",
      "9/9 [==============================] - 0s 11ms/step - loss: 74.8804 - mae: 5.5790 - val_loss: 76.0385 - val_mae: 6.4527\n",
      "Epoch 9/100\n",
      "9/9 [==============================] - 0s 9ms/step - loss: 73.7651 - mae: 6.5144 - val_loss: 79.2247 - val_mae: 5.8242\n",
      "Epoch 10/100\n",
      "9/9 [==============================] - 0s 9ms/step - loss: 69.6094 - mae: 5.8695 - val_loss: 70.1956 - val_mae: 5.6531\n",
      "Epoch 11/100\n",
      "9/9 [==============================] - 0s 9ms/step - loss: 65.2461 - mae: 5.4959 - val_loss: 68.1051 - val_mae: 5.5430\n",
      "Epoch 12/100\n",
      "9/9 [==============================] - 0s 10ms/step - loss: 62.7961 - mae: 5.4410 - val_loss: 68.0935 - val_mae: 5.7424\n",
      "Epoch 13/100\n",
      "9/9 [==============================] - 0s 12ms/step - loss: 64.9080 - mae: 6.1383 - val_loss: 71.0806 - val_mae: 5.2659\n",
      "Epoch 14/100\n",
      "9/9 [==============================] - 0s 10ms/step - loss: 66.4284 - mae: 5.2495 - val_loss: 65.4095 - val_mae: 5.7244\n",
      "Epoch 15/100\n",
      "9/9 [==============================] - 0s 10ms/step - loss: 69.9377 - mae: 5.4841 - val_loss: 65.0158 - val_mae: 5.9686\n",
      "Epoch 16/100\n",
      "9/9 [==============================] - 0s 11ms/step - loss: 64.0134 - mae: 6.1478 - val_loss: 64.8685 - val_mae: 5.5674\n",
      "Epoch 17/100\n",
      "9/9 [==============================] - 0s 12ms/step - loss: 78.3056 - mae: 6.8590 - val_loss: 89.5838 - val_mae: 6.3430\n",
      "Epoch 18/100\n",
      "9/9 [==============================] - 0s 12ms/step - loss: 72.8107 - mae: 5.7740 - val_loss: 70.2725 - val_mae: 5.9538\n",
      "Epoch 19/100\n",
      "9/9 [==============================] - 0s 10ms/step - loss: 67.8983 - mae: 5.2869 - val_loss: 67.4490 - val_mae: 6.0517\n",
      "Epoch 20/100\n",
      "9/9 [==============================] - 0s 10ms/step - loss: 63.6614 - mae: 6.2274 - val_loss: 83.5196 - val_mae: 5.9600\n",
      "Epoch 21/100\n",
      "9/9 [==============================] - 0s 12ms/step - loss: 80.8096 - mae: 6.4582 - val_loss: 60.4578 - val_mae: 5.3355\n",
      "Epoch 22/100\n",
      "9/9 [==============================] - 0s 10ms/step - loss: 65.6962 - mae: 5.1850 - val_loss: 69.8011 - val_mae: 6.3903\n",
      "Epoch 23/100\n",
      "9/9 [==============================] - 0s 13ms/step - loss: 61.9508 - mae: 6.0065 - val_loss: 71.4012 - val_mae: 5.3579\n",
      "Epoch 24/100\n",
      "9/9 [==============================] - 0s 12ms/step - loss: 61.6480 - mae: 5.8428 - val_loss: 62.3048 - val_mae: 5.1784\n",
      "Epoch 25/100\n",
      "9/9 [==============================] - 0s 11ms/step - loss: 61.2268 - mae: 5.0531 - val_loss: 60.3270 - val_mae: 5.5116\n",
      "Epoch 26/100\n",
      "9/9 [==============================] - 0s 12ms/step - loss: 53.0204 - mae: 5.1415 - val_loss: 61.1486 - val_mae: 4.9064\n",
      "Epoch 27/100\n",
      "9/9 [==============================] - 0s 13ms/step - loss: 56.8080 - mae: 4.9609 - val_loss: 90.9930 - val_mae: 8.0072\n",
      "Epoch 28/100\n",
      "9/9 [==============================] - 0s 10ms/step - loss: 87.7258 - mae: 7.5422 - val_loss: 109.9017 - val_mae: 7.6071\n",
      "Epoch 29/100\n",
      "9/9 [==============================] - 0s 9ms/step - loss: 71.7000 - mae: 6.2007 - val_loss: 78.5057 - val_mae: 6.9690\n",
      "Epoch 30/100\n",
      "9/9 [==============================] - 0s 9ms/step - loss: 60.5440 - mae: 5.6054 - val_loss: 64.4698 - val_mae: 5.0718\n",
      "Epoch 31/100\n",
      "9/9 [==============================] - 0s 9ms/step - loss: 54.7936 - mae: 5.1401 - val_loss: 58.5883 - val_mae: 5.3380\n",
      "Epoch 32/100\n",
      "9/9 [==============================] - 0s 10ms/step - loss: 55.5463 - mae: 5.3076 - val_loss: 55.9319 - val_mae: 4.7495\n",
      "Epoch 33/100\n",
      "9/9 [==============================] - 0s 8ms/step - loss: 50.5964 - mae: 4.9703 - val_loss: 53.6918 - val_mae: 4.9373\n",
      "Epoch 34/100\n",
      "9/9 [==============================] - 0s 14ms/step - loss: 51.0842 - mae: 5.0981 - val_loss: 64.0133 - val_mae: 6.1889\n",
      "Epoch 35/100\n",
      "9/9 [==============================] - 0s 9ms/step - loss: 61.8748 - mae: 6.1663 - val_loss: 71.6088 - val_mae: 5.6942\n",
      "Epoch 36/100\n",
      "9/9 [==============================] - 0s 11ms/step - loss: 53.0994 - mae: 5.0782 - val_loss: 57.6202 - val_mae: 5.6231\n",
      "Epoch 37/100\n",
      "9/9 [==============================] - 0s 10ms/step - loss: 50.5478 - mae: 5.0719 - val_loss: 53.1066 - val_mae: 5.1721\n",
      "Epoch 38/100\n",
      "9/9 [==============================] - 0s 11ms/step - loss: 48.5437 - mae: 5.1533 - val_loss: 56.2748 - val_mae: 4.7203\n",
      "Epoch 39/100\n",
      "9/9 [==============================] - 0s 13ms/step - loss: 49.7200 - mae: 4.8146 - val_loss: 56.4545 - val_mae: 5.6721\n",
      "Epoch 40/100\n",
      "9/9 [==============================] - 0s 13ms/step - loss: 46.2743 - mae: 4.7671 - val_loss: 55.1188 - val_mae: 4.7683\n",
      "Epoch 41/100\n",
      "9/9 [==============================] - 0s 11ms/step - loss: 46.7991 - mae: 4.6180 - val_loss: 53.3949 - val_mae: 5.3560\n",
      "Epoch 42/100\n",
      "9/9 [==============================] - 0s 9ms/step - loss: 46.7782 - mae: 4.9067 - val_loss: 52.2268 - val_mae: 4.8179\n",
      "Epoch 43/100\n",
      "9/9 [==============================] - 0s 11ms/step - loss: 46.0671 - mae: 4.8003 - val_loss: 54.1892 - val_mae: 4.7341\n",
      "Epoch 44/100\n",
      "9/9 [==============================] - 0s 12ms/step - loss: 49.0847 - mae: 4.7552 - val_loss: 47.4671 - val_mae: 4.6198\n",
      "Epoch 45/100\n",
      "9/9 [==============================] - 0s 11ms/step - loss: 47.2716 - mae: 4.5834 - val_loss: 79.2778 - val_mae: 7.7525\n",
      "Epoch 46/100\n",
      "9/9 [==============================] - 0s 10ms/step - loss: 86.0024 - mae: 7.3203 - val_loss: 62.0130 - val_mae: 5.2305\n",
      "Epoch 47/100\n",
      "9/9 [==============================] - 0s 14ms/step - loss: 63.8897 - mae: 6.3263 - val_loss: 70.5251 - val_mae: 5.7898\n",
      "Epoch 48/100\n",
      "9/9 [==============================] - 0s 12ms/step - loss: 79.8743 - mae: 6.6451 - val_loss: 76.6058 - val_mae: 7.4217\n",
      "Epoch 49/100\n",
      "9/9 [==============================] - 0s 11ms/step - loss: 54.1881 - mae: 5.3176 - val_loss: 46.7541 - val_mae: 4.3751\n",
      "Epoch 50/100\n",
      "9/9 [==============================] - 0s 13ms/step - loss: 45.8536 - mae: 4.9970 - val_loss: 46.5716 - val_mae: 4.3673\n",
      "Epoch 51/100\n",
      "9/9 [==============================] - 0s 13ms/step - loss: 43.0108 - mae: 4.5567 - val_loss: 47.6280 - val_mae: 5.0289\n",
      "Epoch 52/100\n",
      "9/9 [==============================] - 0s 13ms/step - loss: 43.9526 - mae: 4.5623 - val_loss: 50.4198 - val_mae: 5.1768\n",
      "Epoch 53/100\n",
      "9/9 [==============================] - 0s 13ms/step - loss: 43.7129 - mae: 4.9071 - val_loss: 47.1020 - val_mae: 4.4301\n",
      "Epoch 54/100\n",
      "9/9 [==============================] - 0s 14ms/step - loss: 41.9491 - mae: 4.5057 - val_loss: 45.1637 - val_mae: 4.8472\n",
      "Epoch 55/100\n",
      "9/9 [==============================] - 0s 13ms/step - loss: 44.4774 - mae: 4.5614 - val_loss: 42.4714 - val_mae: 4.5207\n",
      "Epoch 56/100\n",
      "9/9 [==============================] - 0s 12ms/step - loss: 42.0206 - mae: 4.5715 - val_loss: 41.0069 - val_mae: 4.2916\n",
      "Epoch 57/100\n",
      "9/9 [==============================] - 0s 22ms/step - loss: 40.6220 - mae: 4.3439 - val_loss: 43.5476 - val_mae: 4.6621\n",
      "Epoch 58/100\n",
      "9/9 [==============================] - 0s 13ms/step - loss: 40.5969 - mae: 4.5230 - val_loss: 44.0237 - val_mae: 4.3732\n",
      "Epoch 59/100\n",
      "9/9 [==============================] - 0s 10ms/step - loss: 48.3267 - mae: 4.8944 - val_loss: 42.2456 - val_mae: 4.6342\n",
      "Epoch 60/100\n",
      "9/9 [==============================] - 0s 12ms/step - loss: 47.0167 - mae: 4.7719 - val_loss: 51.8519 - val_mae: 5.7140\n",
      "Epoch 61/100\n",
      "9/9 [==============================] - 0s 14ms/step - loss: 45.9563 - mae: 4.9807 - val_loss: 38.1148 - val_mae: 4.0685\n",
      "Epoch 62/100\n",
      "9/9 [==============================] - 0s 15ms/step - loss: 40.9475 - mae: 4.7315 - val_loss: 42.8578 - val_mae: 4.1946\n",
      "Epoch 63/100\n",
      "9/9 [==============================] - 0s 11ms/step - loss: 46.5239 - mae: 4.9088 - val_loss: 38.4255 - val_mae: 4.2683\n",
      "Epoch 64/100\n",
      "9/9 [==============================] - 0s 10ms/step - loss: 48.7292 - mae: 4.8308 - val_loss: 80.6651 - val_mae: 7.8284\n",
      "Epoch 65/100\n",
      "9/9 [==============================] - 0s 11ms/step - loss: 79.0030 - mae: 6.9903 - val_loss: 48.6035 - val_mae: 4.6776\n",
      "Epoch 66/100\n",
      "9/9 [==============================] - 0s 10ms/step - loss: 53.8092 - mae: 5.6660 - val_loss: 47.7682 - val_mae: 4.6397\n",
      "Epoch 67/100\n",
      "9/9 [==============================] - 0s 12ms/step - loss: 48.5151 - mae: 5.2412 - val_loss: 43.1121 - val_mae: 4.5436\n",
      "Epoch 68/100\n",
      "9/9 [==============================] - 0s 10ms/step - loss: 46.9782 - mae: 4.6585 - val_loss: 44.0239 - val_mae: 4.9610\n",
      "Epoch 69/100\n",
      "9/9 [==============================] - 0s 10ms/step - loss: 37.9395 - mae: 4.3640 - val_loss: 39.4849 - val_mae: 4.1629\n",
      "Epoch 70/100\n",
      "9/9 [==============================] - 0s 12ms/step - loss: 39.5732 - mae: 4.4995 - val_loss: 40.6622 - val_mae: 4.3146\n",
      "Epoch 71/100\n",
      "9/9 [==============================] - 0s 11ms/step - loss: 47.2201 - mae: 4.8508 - val_loss: 66.3356 - val_mae: 7.1227\n",
      "Epoch 72/100\n",
      "9/9 [==============================] - 0s 13ms/step - loss: 49.1986 - mae: 5.4494 - val_loss: 44.5210 - val_mae: 4.3687\n",
      "Epoch 73/100\n",
      "9/9 [==============================] - 0s 13ms/step - loss: 42.8787 - mae: 5.1275 - val_loss: 40.3190 - val_mae: 4.1611\n",
      "Epoch 74/100\n",
      "9/9 [==============================] - 0s 12ms/step - loss: 37.2008 - mae: 4.3431 - val_loss: 37.4071 - val_mae: 4.3987\n",
      "Epoch 75/100\n",
      "9/9 [==============================] - 0s 13ms/step - loss: 36.7117 - mae: 4.3487 - val_loss: 38.2121 - val_mae: 4.3636\n",
      "Epoch 76/100\n",
      "9/9 [==============================] - 0s 12ms/step - loss: 35.9367 - mae: 4.3447 - val_loss: 36.7692 - val_mae: 4.1691\n",
      "Epoch 77/100\n",
      "9/9 [==============================] - 0s 10ms/step - loss: 38.9113 - mae: 4.2421 - val_loss: 43.2373 - val_mae: 5.2050\n",
      "Epoch 78/100\n",
      "9/9 [==============================] - 0s 12ms/step - loss: 39.2254 - mae: 4.4833 - val_loss: 36.9143 - val_mae: 4.3956\n",
      "Epoch 79/100\n",
      "9/9 [==============================] - 0s 20ms/step - loss: 36.5290 - mae: 4.4295 - val_loss: 37.9444 - val_mae: 4.1235\n",
      "Epoch 80/100\n",
      "9/9 [==============================] - 0s 10ms/step - loss: 35.5976 - mae: 4.2558 - val_loss: 37.4918 - val_mae: 4.4549\n",
      "Epoch 81/100\n",
      "9/9 [==============================] - 0s 10ms/step - loss: 35.2962 - mae: 4.1672 - val_loss: 41.9754 - val_mae: 5.0032\n",
      "Epoch 82/100\n",
      "9/9 [==============================] - 0s 9ms/step - loss: 39.2984 - mae: 4.6837 - val_loss: 35.8696 - val_mae: 4.1680\n",
      "Epoch 83/100\n",
      "9/9 [==============================] - 0s 9ms/step - loss: 37.1202 - mae: 4.6028 - val_loss: 43.9662 - val_mae: 5.1694\n",
      "Epoch 84/100\n",
      "9/9 [==============================] - 0s 12ms/step - loss: 53.9727 - mae: 5.8159 - val_loss: 57.1583 - val_mae: 5.2970\n",
      "Epoch 85/100\n",
      "9/9 [==============================] - 0s 12ms/step - loss: 43.6276 - mae: 4.9752 - val_loss: 42.9027 - val_mae: 4.5309\n",
      "Epoch 86/100\n",
      "9/9 [==============================] - 0s 11ms/step - loss: 40.6070 - mae: 4.5038 - val_loss: 39.8906 - val_mae: 4.8109\n",
      "Epoch 87/100\n",
      "9/9 [==============================] - 0s 13ms/step - loss: 35.8511 - mae: 4.3508 - val_loss: 37.1054 - val_mae: 4.5105\n",
      "Epoch 88/100\n",
      "9/9 [==============================] - 0s 13ms/step - loss: 33.7554 - mae: 4.3132 - val_loss: 37.3098 - val_mae: 4.0704\n",
      "Epoch 89/100\n",
      "9/9 [==============================] - 0s 14ms/step - loss: 37.8251 - mae: 4.4188 - val_loss: 54.9608 - val_mae: 6.4351\n",
      "Epoch 90/100\n",
      "9/9 [==============================] - 0s 14ms/step - loss: 40.5200 - mae: 4.8956 - val_loss: 36.5547 - val_mae: 4.2827\n",
      "Epoch 91/100\n",
      "9/9 [==============================] - 0s 10ms/step - loss: 35.2979 - mae: 4.3713 - val_loss: 40.6922 - val_mae: 4.7064\n",
      "Epoch 92/100\n",
      "9/9 [==============================] - 0s 8ms/step - loss: 34.1942 - mae: 4.2445 - val_loss: 36.5151 - val_mae: 4.4229\n",
      "Epoch 93/100\n",
      "9/9 [==============================] - 0s 10ms/step - loss: 33.0772 - mae: 4.2637 - val_loss: 36.1993 - val_mae: 4.0810\n",
      "Epoch 94/100\n",
      "9/9 [==============================] - 0s 10ms/step - loss: 35.6584 - mae: 4.3140 - val_loss: 33.9249 - val_mae: 4.2129\n",
      "Epoch 95/100\n",
      "9/9 [==============================] - 0s 13ms/step - loss: 38.6314 - mae: 4.5456 - val_loss: 48.1424 - val_mae: 5.7897\n",
      "Epoch 96/100\n",
      "9/9 [==============================] - 0s 10ms/step - loss: 38.1355 - mae: 4.5458 - val_loss: 41.3448 - val_mae: 4.6734\n",
      "Epoch 97/100\n",
      "9/9 [==============================] - 0s 10ms/step - loss: 34.4953 - mae: 4.3315 - val_loss: 35.6490 - val_mae: 4.3355\n",
      "Epoch 98/100\n",
      "9/9 [==============================] - 0s 12ms/step - loss: 32.8446 - mae: 4.2711 - val_loss: 33.7025 - val_mae: 4.1832\n",
      "Epoch 99/100\n",
      "9/9 [==============================] - 0s 11ms/step - loss: 32.4514 - mae: 4.1521 - val_loss: 38.1487 - val_mae: 4.7577\n",
      "Epoch 100/100\n",
      "9/9 [==============================] - 0s 9ms/step - loss: 33.9174 - mae: 4.2327 - val_loss: 36.2493 - val_mae: 4.4587\n",
      "3/3 [==============================] - 0s 13ms/step - loss: 31.5526 - mae: 4.2804\n"
     ]
    }
   ],
   "source": [
    "# train the model using the training data \n",
    "model.fit(X_train, y_train, epochs=100, batch_size=32, validation_split=0.2,\n",
    "                    verbose=1)\n",
    "\n",
    "# evaluate the model on the test data\n",
    "test_loss, test_mae = model.evaluate(X_test, y_test)"
   ]
  },
  {
   "cell_type": "code",
   "execution_count": 26,
   "metadata": {},
   "outputs": [
    {
     "name": "stdout",
     "output_type": "stream",
     "text": [
      "Test Loss: 31.5526\n",
      "Test Mean Absolute Error (MAE): 4.2804\n"
     ]
    }
   ],
   "source": [
    "# print results \n",
    "print(f\"Test Loss: {test_loss:.4f}\")\n",
    "print(f\"Test Mean Absolute Error (MAE): {test_mae:.4f}\")"
   ]
  },
  {
   "cell_type": "code",
   "execution_count": 27,
   "metadata": {},
   "outputs": [
    {
     "name": "stdout",
     "output_type": "stream",
     "text": [
      "Epoch 1/100\n",
      "9/9 [==============================] - 0s 19ms/step - loss: 32.2477 - mae: 4.0974 - val_loss: 36.4472 - val_mae: 4.5279\n",
      "Epoch 2/100\n",
      "9/9 [==============================] - 0s 9ms/step - loss: 32.0696 - mae: 4.0589 - val_loss: 35.5209 - val_mae: 4.2739\n",
      "Epoch 3/100\n",
      "9/9 [==============================] - 0s 9ms/step - loss: 32.7864 - mae: 4.1954 - val_loss: 35.2088 - val_mae: 4.0698\n",
      "Epoch 4/100\n",
      "9/9 [==============================] - 0s 9ms/step - loss: 33.7231 - mae: 4.2054 - val_loss: 44.8833 - val_mae: 5.4471\n",
      "Epoch 5/100\n",
      "9/9 [==============================] - 0s 17ms/step - loss: 35.6431 - mae: 4.5415 - val_loss: 36.2389 - val_mae: 4.4477\n",
      "Epoch 6/100\n",
      "9/9 [==============================] - 0s 10ms/step - loss: 35.1011 - mae: 4.3967 - val_loss: 35.7869 - val_mae: 4.1227\n",
      "Epoch 7/100\n",
      "9/9 [==============================] - 0s 10ms/step - loss: 35.2011 - mae: 4.4750 - val_loss: 43.0579 - val_mae: 4.5470\n",
      "Epoch 8/100\n",
      "9/9 [==============================] - 0s 10ms/step - loss: 37.7262 - mae: 4.5338 - val_loss: 34.8026 - val_mae: 4.5111\n",
      "Epoch 9/100\n",
      "9/9 [==============================] - 0s 13ms/step - loss: 31.7454 - mae: 4.0400 - val_loss: 33.1523 - val_mae: 4.3930\n",
      "Epoch 10/100\n",
      "9/9 [==============================] - 0s 12ms/step - loss: 30.6993 - mae: 4.0362 - val_loss: 32.7797 - val_mae: 3.9408\n",
      "Epoch 11/100\n",
      "9/9 [==============================] - 0s 10ms/step - loss: 34.0243 - mae: 4.3448 - val_loss: 32.4728 - val_mae: 4.0771\n",
      "Epoch 12/100\n",
      "9/9 [==============================] - 0s 10ms/step - loss: 31.3081 - mae: 4.0598 - val_loss: 31.1631 - val_mae: 4.1026\n",
      "Epoch 13/100\n",
      "9/9 [==============================] - 0s 9ms/step - loss: 34.4840 - mae: 4.2464 - val_loss: 32.8773 - val_mae: 4.1312\n",
      "Epoch 14/100\n",
      "9/9 [==============================] - 0s 9ms/step - loss: 34.7735 - mae: 4.1758 - val_loss: 33.9434 - val_mae: 4.6390\n",
      "Epoch 15/100\n",
      "9/9 [==============================] - 0s 8ms/step - loss: 34.9466 - mae: 4.3097 - val_loss: 40.5452 - val_mae: 5.2133\n",
      "Epoch 16/100\n",
      "9/9 [==============================] - 0s 8ms/step - loss: 38.3143 - mae: 4.6219 - val_loss: 29.3542 - val_mae: 3.8407\n",
      "Epoch 17/100\n",
      "9/9 [==============================] - 0s 11ms/step - loss: 29.8211 - mae: 4.0828 - val_loss: 33.3835 - val_mae: 4.1031\n",
      "Epoch 18/100\n",
      "9/9 [==============================] - 0s 11ms/step - loss: 30.8329 - mae: 4.0118 - val_loss: 37.1244 - val_mae: 4.7548\n",
      "Epoch 19/100\n",
      "9/9 [==============================] - 0s 10ms/step - loss: 32.4579 - mae: 4.2757 - val_loss: 32.4041 - val_mae: 4.3763\n",
      "Epoch 20/100\n",
      "9/9 [==============================] - 0s 10ms/step - loss: 32.7113 - mae: 4.1838 - val_loss: 33.2322 - val_mae: 4.4890\n",
      "Epoch 21/100\n",
      "9/9 [==============================] - 0s 10ms/step - loss: 32.8265 - mae: 4.3596 - val_loss: 31.8126 - val_mae: 3.8819\n",
      "Epoch 22/100\n",
      "9/9 [==============================] - 0s 11ms/step - loss: 31.0081 - mae: 4.2580 - val_loss: 30.1892 - val_mae: 4.1121\n",
      "Epoch 23/100\n",
      "9/9 [==============================] - 0s 10ms/step - loss: 29.5748 - mae: 4.0591 - val_loss: 32.5746 - val_mae: 4.1708\n",
      "Epoch 24/100\n",
      "9/9 [==============================] - 0s 10ms/step - loss: 29.9830 - mae: 4.0219 - val_loss: 29.3113 - val_mae: 4.0209\n",
      "Epoch 25/100\n",
      "9/9 [==============================] - 0s 13ms/step - loss: 32.5310 - mae: 4.2505 - val_loss: 40.2366 - val_mae: 5.2359\n",
      "Epoch 26/100\n",
      "9/9 [==============================] - 0s 12ms/step - loss: 32.1824 - mae: 4.2115 - val_loss: 34.6998 - val_mae: 4.5281\n",
      "Epoch 27/100\n",
      "9/9 [==============================] - 0s 12ms/step - loss: 33.8111 - mae: 4.2965 - val_loss: 29.4004 - val_mae: 3.8206\n",
      "Epoch 28/100\n",
      "9/9 [==============================] - 0s 11ms/step - loss: 30.7073 - mae: 4.2265 - val_loss: 41.7821 - val_mae: 4.5536\n",
      "Epoch 29/100\n",
      "9/9 [==============================] - 0s 12ms/step - loss: 34.6136 - mae: 4.5389 - val_loss: 31.9030 - val_mae: 4.4369\n",
      "Epoch 30/100\n",
      "9/9 [==============================] - 0s 11ms/step - loss: 29.2751 - mae: 4.0371 - val_loss: 29.6684 - val_mae: 3.9496\n",
      "Epoch 31/100\n",
      "9/9 [==============================] - 0s 19ms/step - loss: 29.4796 - mae: 4.0556 - val_loss: 33.9143 - val_mae: 4.0121\n",
      "Epoch 32/100\n",
      "9/9 [==============================] - 0s 10ms/step - loss: 34.7152 - mae: 4.3726 - val_loss: 30.6807 - val_mae: 4.0006\n",
      "Epoch 33/100\n",
      "9/9 [==============================] - 0s 10ms/step - loss: 45.1984 - mae: 5.0929 - val_loss: 58.1739 - val_mae: 6.6786\n",
      "Epoch 34/100\n",
      "9/9 [==============================] - 0s 10ms/step - loss: 37.2479 - mae: 4.4849 - val_loss: 34.4991 - val_mae: 4.6987\n",
      "Epoch 35/100\n",
      "9/9 [==============================] - 0s 10ms/step - loss: 35.1727 - mae: 4.5969 - val_loss: 29.9227 - val_mae: 3.8287\n",
      "Epoch 36/100\n",
      "9/9 [==============================] - 0s 13ms/step - loss: 29.0883 - mae: 4.0498 - val_loss: 29.0028 - val_mae: 4.1432\n",
      "Epoch 37/100\n",
      "9/9 [==============================] - 0s 12ms/step - loss: 30.2427 - mae: 4.0557 - val_loss: 26.8030 - val_mae: 3.7940\n",
      "Epoch 38/100\n",
      "9/9 [==============================] - 0s 14ms/step - loss: 27.1515 - mae: 3.8332 - val_loss: 51.1543 - val_mae: 6.2064\n",
      "Epoch 39/100\n",
      "9/9 [==============================] - 0s 11ms/step - loss: 46.0091 - mae: 5.3935 - val_loss: 27.8148 - val_mae: 3.9272\n",
      "Epoch 40/100\n",
      "9/9 [==============================] - 0s 13ms/step - loss: 34.5846 - mae: 4.6088 - val_loss: 49.7243 - val_mae: 5.3582\n",
      "Epoch 41/100\n",
      "9/9 [==============================] - 0s 11ms/step - loss: 40.6323 - mae: 4.9864 - val_loss: 38.7747 - val_mae: 4.4556\n",
      "Epoch 42/100\n",
      "9/9 [==============================] - 0s 12ms/step - loss: 43.7250 - mae: 5.1224 - val_loss: 72.2574 - val_mae: 7.5548\n",
      "Epoch 43/100\n",
      "9/9 [==============================] - 0s 10ms/step - loss: 41.2374 - mae: 4.7608 - val_loss: 30.9803 - val_mae: 4.4744\n",
      "Epoch 44/100\n",
      "9/9 [==============================] - 0s 9ms/step - loss: 42.5266 - mae: 5.1649 - val_loss: 29.7912 - val_mae: 4.1354\n",
      "Epoch 45/100\n",
      "9/9 [==============================] - 0s 10ms/step - loss: 64.6639 - mae: 6.2017 - val_loss: 53.8717 - val_mae: 5.5624\n",
      "Epoch 46/100\n",
      "9/9 [==============================] - 0s 10ms/step - loss: 51.1274 - mae: 5.7957 - val_loss: 35.3387 - val_mae: 4.1380\n",
      "Epoch 47/100\n",
      "9/9 [==============================] - 0s 10ms/step - loss: 35.3474 - mae: 4.4372 - val_loss: 37.6712 - val_mae: 4.7083\n",
      "Epoch 48/100\n",
      "9/9 [==============================] - 0s 12ms/step - loss: 32.7536 - mae: 4.2259 - val_loss: 27.9437 - val_mae: 3.7948\n",
      "Epoch 49/100\n",
      "9/9 [==============================] - 0s 13ms/step - loss: 29.0453 - mae: 3.9977 - val_loss: 29.9002 - val_mae: 4.0841\n",
      "Epoch 50/100\n",
      "9/9 [==============================] - 0s 11ms/step - loss: 28.9249 - mae: 3.9541 - val_loss: 29.2597 - val_mae: 3.9758\n",
      "Epoch 51/100\n",
      "9/9 [==============================] - 0s 12ms/step - loss: 30.9921 - mae: 4.0973 - val_loss: 29.9732 - val_mae: 4.3044\n",
      "Epoch 52/100\n",
      "9/9 [==============================] - 0s 10ms/step - loss: 28.4503 - mae: 3.9156 - val_loss: 41.0720 - val_mae: 5.3989\n",
      "Epoch 53/100\n",
      "9/9 [==============================] - 0s 11ms/step - loss: 38.6609 - mae: 4.9017 - val_loss: 34.4131 - val_mae: 4.0021\n",
      "Epoch 54/100\n",
      "9/9 [==============================] - 0s 12ms/step - loss: 32.0067 - mae: 4.4634 - val_loss: 29.7872 - val_mae: 3.8317\n",
      "Epoch 55/100\n",
      "9/9 [==============================] - 0s 11ms/step - loss: 30.7146 - mae: 4.0883 - val_loss: 53.8661 - val_mae: 6.2521\n",
      "Epoch 56/100\n",
      "9/9 [==============================] - 0s 10ms/step - loss: 39.4194 - mae: 5.0009 - val_loss: 39.2606 - val_mae: 4.5994\n",
      "Epoch 57/100\n",
      "9/9 [==============================] - 0s 16ms/step - loss: 29.1265 - mae: 4.1443 - val_loss: 28.0097 - val_mae: 3.9971\n",
      "Epoch 58/100\n",
      "9/9 [==============================] - 0s 8ms/step - loss: 29.0980 - mae: 3.9550 - val_loss: 33.2375 - val_mae: 4.7459\n",
      "Epoch 59/100\n",
      "9/9 [==============================] - 0s 10ms/step - loss: 25.7267 - mae: 3.7730 - val_loss: 30.4357 - val_mae: 3.6831\n",
      "Epoch 60/100\n",
      "9/9 [==============================] - 0s 11ms/step - loss: 28.1671 - mae: 3.9381 - val_loss: 26.4424 - val_mae: 3.7940\n",
      "Epoch 61/100\n",
      "9/9 [==============================] - 0s 11ms/step - loss: 27.0979 - mae: 3.8495 - val_loss: 29.9948 - val_mae: 4.3275\n",
      "Epoch 62/100\n",
      "9/9 [==============================] - 0s 10ms/step - loss: 32.6850 - mae: 4.5041 - val_loss: 36.0611 - val_mae: 4.2483\n",
      "Epoch 63/100\n",
      "9/9 [==============================] - 0s 13ms/step - loss: 29.6684 - mae: 4.0790 - val_loss: 31.9769 - val_mae: 4.5760\n",
      "Epoch 64/100\n",
      "9/9 [==============================] - 0s 13ms/step - loss: 32.7516 - mae: 4.3357 - val_loss: 26.5092 - val_mae: 3.5778\n",
      "Epoch 65/100\n",
      "9/9 [==============================] - 0s 13ms/step - loss: 25.8606 - mae: 3.8133 - val_loss: 27.9828 - val_mae: 3.9351\n",
      "Epoch 66/100\n",
      "9/9 [==============================] - 0s 10ms/step - loss: 25.2533 - mae: 3.6782 - val_loss: 26.6442 - val_mae: 3.8653\n",
      "Epoch 67/100\n",
      "9/9 [==============================] - 0s 11ms/step - loss: 25.2033 - mae: 3.6839 - val_loss: 28.4534 - val_mae: 3.6774\n",
      "Epoch 68/100\n",
      "9/9 [==============================] - 0s 11ms/step - loss: 28.9036 - mae: 3.9911 - val_loss: 28.1337 - val_mae: 4.0681\n",
      "Epoch 69/100\n",
      "9/9 [==============================] - 0s 11ms/step - loss: 28.2568 - mae: 3.8642 - val_loss: 31.6214 - val_mae: 4.0114\n",
      "Epoch 70/100\n",
      "9/9 [==============================] - 0s 10ms/step - loss: 30.1915 - mae: 4.1231 - val_loss: 29.9426 - val_mae: 3.7971\n",
      "Epoch 71/100\n",
      "9/9 [==============================] - 0s 10ms/step - loss: 33.6451 - mae: 4.2493 - val_loss: 28.8657 - val_mae: 4.2520\n",
      "Epoch 72/100\n",
      "9/9 [==============================] - 0s 10ms/step - loss: 27.7487 - mae: 3.9493 - val_loss: 28.0597 - val_mae: 4.1007\n",
      "Epoch 73/100\n",
      "9/9 [==============================] - 0s 10ms/step - loss: 25.8978 - mae: 3.7297 - val_loss: 27.7709 - val_mae: 4.1434\n",
      "Epoch 74/100\n",
      "9/9 [==============================] - 0s 14ms/step - loss: 25.6928 - mae: 3.6986 - val_loss: 24.5819 - val_mae: 3.6627\n",
      "Epoch 75/100\n",
      "9/9 [==============================] - 0s 14ms/step - loss: 26.2895 - mae: 3.7124 - val_loss: 25.3229 - val_mae: 3.4677\n",
      "Epoch 76/100\n",
      "9/9 [==============================] - 0s 13ms/step - loss: 25.6865 - mae: 3.7290 - val_loss: 24.6103 - val_mae: 3.5329\n",
      "Epoch 77/100\n",
      "9/9 [==============================] - 0s 10ms/step - loss: 29.5619 - mae: 4.0704 - val_loss: 27.5759 - val_mae: 4.0987\n",
      "Epoch 78/100\n",
      "9/9 [==============================] - 0s 10ms/step - loss: 28.0584 - mae: 3.9205 - val_loss: 34.7338 - val_mae: 4.7561\n",
      "Epoch 79/100\n",
      "9/9 [==============================] - 0s 10ms/step - loss: 27.5159 - mae: 3.8954 - val_loss: 23.9165 - val_mae: 3.6120\n",
      "Epoch 80/100\n",
      "9/9 [==============================] - 0s 19ms/step - loss: 24.5392 - mae: 3.6530 - val_loss: 28.3648 - val_mae: 3.6744\n",
      "Epoch 81/100\n",
      "9/9 [==============================] - 0s 10ms/step - loss: 29.8604 - mae: 4.0721 - val_loss: 25.8015 - val_mae: 3.6413\n",
      "Epoch 82/100\n",
      "9/9 [==============================] - 0s 11ms/step - loss: 29.8062 - mae: 4.0387 - val_loss: 24.9323 - val_mae: 3.8440\n",
      "Epoch 83/100\n",
      "9/9 [==============================] - 0s 13ms/step - loss: 26.0215 - mae: 3.7224 - val_loss: 25.0317 - val_mae: 3.9078\n",
      "Epoch 84/100\n",
      "9/9 [==============================] - 0s 13ms/step - loss: 24.5611 - mae: 3.6051 - val_loss: 24.1261 - val_mae: 3.6664\n",
      "Epoch 85/100\n",
      "9/9 [==============================] - 0s 14ms/step - loss: 24.0513 - mae: 3.5800 - val_loss: 28.9370 - val_mae: 3.7413\n",
      "Epoch 86/100\n",
      "9/9 [==============================] - 0s 14ms/step - loss: 37.5249 - mae: 4.8788 - val_loss: 26.3459 - val_mae: 4.1396\n",
      "Epoch 87/100\n",
      "9/9 [==============================] - 0s 14ms/step - loss: 30.2091 - mae: 3.9394 - val_loss: 27.3142 - val_mae: 4.0560\n",
      "Epoch 88/100\n",
      "9/9 [==============================] - 0s 14ms/step - loss: 26.3263 - mae: 3.7145 - val_loss: 35.5228 - val_mae: 5.0681\n",
      "Epoch 89/100\n",
      "9/9 [==============================] - 0s 16ms/step - loss: 25.8024 - mae: 3.7549 - val_loss: 25.3669 - val_mae: 3.7331\n",
      "Epoch 90/100\n",
      "9/9 [==============================] - 0s 10ms/step - loss: 23.8378 - mae: 3.5729 - val_loss: 24.8746 - val_mae: 3.8492\n",
      "Epoch 91/100\n",
      "9/9 [==============================] - 0s 13ms/step - loss: 24.2053 - mae: 3.6368 - val_loss: 24.6211 - val_mae: 3.4621\n",
      "Epoch 92/100\n",
      "9/9 [==============================] - 0s 13ms/step - loss: 23.6982 - mae: 3.6044 - val_loss: 24.6871 - val_mae: 3.5188\n",
      "Epoch 93/100\n",
      "9/9 [==============================] - 0s 12ms/step - loss: 23.8319 - mae: 3.5487 - val_loss: 25.5436 - val_mae: 3.5172\n",
      "Epoch 94/100\n",
      "9/9 [==============================] - 0s 12ms/step - loss: 25.9683 - mae: 3.7789 - val_loss: 24.9221 - val_mae: 3.6049\n",
      "Epoch 95/100\n",
      "9/9 [==============================] - 0s 12ms/step - loss: 23.0278 - mae: 3.4346 - val_loss: 27.3072 - val_mae: 4.1553\n",
      "Epoch 96/100\n",
      "9/9 [==============================] - 0s 10ms/step - loss: 23.8851 - mae: 3.5927 - val_loss: 25.5876 - val_mae: 3.8988\n",
      "Epoch 97/100\n",
      "9/9 [==============================] - 0s 12ms/step - loss: 24.7093 - mae: 3.7021 - val_loss: 27.7782 - val_mae: 3.6520\n",
      "Epoch 98/100\n",
      "9/9 [==============================] - 0s 13ms/step - loss: 24.2725 - mae: 3.6456 - val_loss: 27.6843 - val_mae: 4.2996\n",
      "Epoch 99/100\n",
      "9/9 [==============================] - 0s 23ms/step - loss: 24.4594 - mae: 3.5917 - val_loss: 23.2621 - val_mae: 3.6243\n",
      "Epoch 100/100\n",
      "9/9 [==============================] - 0s 8ms/step - loss: 22.8777 - mae: 3.4588 - val_loss: 25.3187 - val_mae: 4.0543\n"
     ]
    },
    {
     "data": {
      "text/plain": [
       "<function matplotlib.pyplot.show(close=None, block=None)>"
      ]
     },
     "execution_count": 27,
     "metadata": {},
     "output_type": "execute_result"
    },
    {
     "data": {
      "image/png": "[encoded data removed]",
      "text/plain": [
       "<Figure size 640x480 with 1 Axes>"
      ]
     },
     "metadata": {},
     "output_type": "display_data"
    }
   ],
   "source": [
    "# graph \n",
    "\n",
    "hist = model.fit(X_train, y_train, epochs=100, batch_size=32, validation_split=0.2)\n",
    "\n",
    "figure = plt.gcf()\n",
    "\n",
    "plt.title('Epoch Loss')\n",
    "plt.xlabel('Epoch')\n",
    "plt.ylabel('Loss')\n",
    "plt.plot(range(1, len(hist.history['loss'])+1), hist.history['loss']),\n",
    "plt.plot(range(1, len(hist.history['val_loss'])+1), hist.history['val_loss'])\n",
    "plt.legend(['Loss', 'Validation Loss'])\n",
    "plt.show\n",
    "\n"
   ]
  }
 ],
 "metadata": {
  "kernelspec": {
   "display_name": "dev",
   "language": "python",
   "name": "python3"
  },
  "language_info": {
   "codemirror_mode": {
    "name": "ipython",
    "version": 3
   },
   "file_extension": ".py",
   "mimetype": "text/x-python",
   "name": "python",
   "nbconvert_exporter": "python",
   "pygments_lexer": "ipython3",
   "version": "3.10.13"
  }
 },
 "nbformat": 4,
 "nbformat_minor": 2
}
