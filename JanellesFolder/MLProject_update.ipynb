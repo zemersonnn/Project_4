{
 "cells": [
  {
   "cell_type": "code",
   "execution_count": 29,
   "id": "990e3df9",
   "metadata": {},
   "outputs": [],
   "source": [
    "import tensorflow as tf\n",
    "import pandas as pd\n",
    "import matplotlib.pyplot as plt\n",
    "import seaborn as sns\n",
    "from sklearn.preprocessing import StandardScaler\n",
    "from sklearn.model_selection import train_test_split\n",
    "from sklearn.linear_model import LinearRegression\n",
    "from sklearn.tree import DecisionTreeRegressor\n",
    "from sklearn.ensemble import RandomForestRegressor\n",
    "from sklearn.metrics import mean_squared_error\n",
    "from sklearn.metrics import r2_score"
   ]
  },
  {
   "cell_type": "code",
   "execution_count": 3,
   "id": "46f1d0b6",
   "metadata": {},
   "outputs": [],
   "source": [
    "from tensorflow.keras.datasets import boston_housing"
   ]
  },
  {
   "cell_type": "code",
   "execution_count": 4,
   "id": "32db9e42",
   "metadata": {},
   "outputs": [],
   "source": [
    "dataset = tf.keras.datasets.boston_housing.load_data()"
   ]
  },
  {
   "cell_type": "code",
   "execution_count": 5,
   "id": "ee155d2e",
   "metadata": {},
   "outputs": [],
   "source": [
    "column_names = ['CRIM', 'ZN', 'INDUS', 'CHAS', 'NOX', 'RM', 'AGE', 'DIS', 'RAD', 'TAX', 'PTRATIO', 'B', 'LSTAT']\n",
    "data = pd.DataFrame(dataset[0][0], columns=column_names)  # Assuming dataset[0] contains the training data\n",
    "data['Price'] = dataset[0][1]  # Assuming dataset[0] contains the corresponding training targets"
   ]
  },
  {
   "cell_type": "code",
   "execution_count": 6,
   "id": "95e41f56",
   "metadata": {},
   "outputs": [],
   "source": [
    "# data = pd.DataFrame(dataset[0][0], columns=feature_names)  # Assuming dataset[0] contains the training data\n",
    "# data['Price'] = dataset[0][1]  # Assuming dataset[0] contains the corresponding training targets"
   ]
  },
  {
   "cell_type": "code",
   "execution_count": 7,
   "id": "b58c821e",
   "metadata": {},
   "outputs": [
    {
     "data": {
      "text/html": [
       "<div>\n",
       "<style scoped>\n",
       "    .dataframe tbody tr th:only-of-type {\n",
       "        vertical-align: middle;\n",
       "    }\n",
       "\n",
       "    .dataframe tbody tr th {\n",
       "        vertical-align: top;\n",
       "    }\n",
       "\n",
       "    .dataframe thead th {\n",
       "        text-align: right;\n",
       "    }\n",
       "</style>\n",
       "<table border=\"1\" class=\"dataframe\">\n",
       "  <thead>\n",
       "    <tr style=\"text-align: right;\">\n",
       "      <th></th>\n",
       "      <th>CRIM</th>\n",
       "      <th>ZN</th>\n",
       "      <th>INDUS</th>\n",
       "      <th>CHAS</th>\n",
       "      <th>NOX</th>\n",
       "      <th>RM</th>\n",
       "      <th>AGE</th>\n",
       "      <th>DIS</th>\n",
       "      <th>RAD</th>\n",
       "      <th>TAX</th>\n",
       "      <th>PTRATIO</th>\n",
       "      <th>B</th>\n",
       "      <th>LSTAT</th>\n",
       "      <th>Price</th>\n",
       "    </tr>\n",
       "  </thead>\n",
       "  <tbody>\n",
       "    <tr>\n",
       "      <th>0</th>\n",
       "      <td>1.23247</td>\n",
       "      <td>0.0</td>\n",
       "      <td>8.14</td>\n",
       "      <td>0.0</td>\n",
       "      <td>0.538</td>\n",
       "      <td>6.142</td>\n",
       "      <td>91.7</td>\n",
       "      <td>3.9769</td>\n",
       "      <td>4.0</td>\n",
       "      <td>307.0</td>\n",
       "      <td>21.0</td>\n",
       "      <td>396.90</td>\n",
       "      <td>18.72</td>\n",
       "      <td>15.2</td>\n",
       "    </tr>\n",
       "    <tr>\n",
       "      <th>1</th>\n",
       "      <td>0.02177</td>\n",
       "      <td>82.5</td>\n",
       "      <td>2.03</td>\n",
       "      <td>0.0</td>\n",
       "      <td>0.415</td>\n",
       "      <td>7.610</td>\n",
       "      <td>15.7</td>\n",
       "      <td>6.2700</td>\n",
       "      <td>2.0</td>\n",
       "      <td>348.0</td>\n",
       "      <td>14.7</td>\n",
       "      <td>395.38</td>\n",
       "      <td>3.11</td>\n",
       "      <td>42.3</td>\n",
       "    </tr>\n",
       "    <tr>\n",
       "      <th>2</th>\n",
       "      <td>4.89822</td>\n",
       "      <td>0.0</td>\n",
       "      <td>18.10</td>\n",
       "      <td>0.0</td>\n",
       "      <td>0.631</td>\n",
       "      <td>4.970</td>\n",
       "      <td>100.0</td>\n",
       "      <td>1.3325</td>\n",
       "      <td>24.0</td>\n",
       "      <td>666.0</td>\n",
       "      <td>20.2</td>\n",
       "      <td>375.52</td>\n",
       "      <td>3.26</td>\n",
       "      <td>50.0</td>\n",
       "    </tr>\n",
       "    <tr>\n",
       "      <th>3</th>\n",
       "      <td>0.03961</td>\n",
       "      <td>0.0</td>\n",
       "      <td>5.19</td>\n",
       "      <td>0.0</td>\n",
       "      <td>0.515</td>\n",
       "      <td>6.037</td>\n",
       "      <td>34.5</td>\n",
       "      <td>5.9853</td>\n",
       "      <td>5.0</td>\n",
       "      <td>224.0</td>\n",
       "      <td>20.2</td>\n",
       "      <td>396.90</td>\n",
       "      <td>8.01</td>\n",
       "      <td>21.1</td>\n",
       "    </tr>\n",
       "    <tr>\n",
       "      <th>4</th>\n",
       "      <td>3.69311</td>\n",
       "      <td>0.0</td>\n",
       "      <td>18.10</td>\n",
       "      <td>0.0</td>\n",
       "      <td>0.713</td>\n",
       "      <td>6.376</td>\n",
       "      <td>88.4</td>\n",
       "      <td>2.5671</td>\n",
       "      <td>24.0</td>\n",
       "      <td>666.0</td>\n",
       "      <td>20.2</td>\n",
       "      <td>391.43</td>\n",
       "      <td>14.65</td>\n",
       "      <td>17.7</td>\n",
       "    </tr>\n",
       "  </tbody>\n",
       "</table>\n",
       "</div>"
      ],
      "text/plain": [
       "      CRIM    ZN  INDUS  CHAS    NOX     RM    AGE     DIS   RAD    TAX  \\\n",
       "0  1.23247   0.0   8.14   0.0  0.538  6.142   91.7  3.9769   4.0  307.0   \n",
       "1  0.02177  82.5   2.03   0.0  0.415  7.610   15.7  6.2700   2.0  348.0   \n",
       "2  4.89822   0.0  18.10   0.0  0.631  4.970  100.0  1.3325  24.0  666.0   \n",
       "3  0.03961   0.0   5.19   0.0  0.515  6.037   34.5  5.9853   5.0  224.0   \n",
       "4  3.69311   0.0  18.10   0.0  0.713  6.376   88.4  2.5671  24.0  666.0   \n",
       "\n",
       "   PTRATIO       B  LSTAT  Price  \n",
       "0     21.0  396.90  18.72   15.2  \n",
       "1     14.7  395.38   3.11   42.3  \n",
       "2     20.2  375.52   3.26   50.0  \n",
       "3     20.2  396.90   8.01   21.1  \n",
       "4     20.2  391.43  14.65   17.7  "
      ]
     },
     "execution_count": 7,
     "metadata": {},
     "output_type": "execute_result"
    }
   ],
   "source": [
    "data.head()"
   ]
  },
  {
   "cell_type": "code",
   "execution_count": 8,
   "id": "322b75bd",
   "metadata": {},
   "outputs": [],
   "source": [
    "# Determine the number of unique values in each column.\n",
    "unique_counts = data.nunique()"
   ]
  },
  {
   "cell_type": "code",
   "execution_count": 9,
   "id": "8794301d",
   "metadata": {},
   "outputs": [
    {
     "name": "stdout",
     "output_type": "stream",
     "text": [
      "CRIM       404\n",
      "ZN          25\n",
      "INDUS       71\n",
      "CHAS         2\n",
      "NOX         79\n",
      "RM         374\n",
      "AGE        296\n",
      "DIS        338\n",
      "RAD          9\n",
      "TAX         62\n",
      "PTRATIO     46\n",
      "B          286\n",
      "LSTAT      371\n",
      "Price      201\n",
      "dtype: int64\n"
     ]
    }
   ],
   "source": [
    "# Print the unique value counts\n",
    "print(unique_counts)"
   ]
  },
  {
   "cell_type": "code",
   "execution_count": 10,
   "id": "0bf7b66e",
   "metadata": {},
   "outputs": [
    {
     "data": {
      "text/plain": [
       "CRIM       0\n",
       "ZN         0\n",
       "INDUS      0\n",
       "CHAS       0\n",
       "NOX        0\n",
       "RM         0\n",
       "AGE        0\n",
       "DIS        0\n",
       "RAD        0\n",
       "TAX        0\n",
       "PTRATIO    0\n",
       "B          0\n",
       "LSTAT      0\n",
       "Price      0\n",
       "dtype: int64"
      ]
     },
     "execution_count": 10,
     "metadata": {},
     "output_type": "execute_result"
    }
   ],
   "source": [
    "# Check if there are any missing values in the dataset\n",
    "data.isnull().sum()"
   ]
  },
  {
   "cell_type": "code",
   "execution_count": 14,
   "id": "f08e5126",
   "metadata": {},
   "outputs": [],
   "source": [
    "# Data Scaling/Normalization\n",
    "scaler = StandardScaler()\n",
    "data[column_names] = scaler.fit_transform(data[column_names])"
   ]
  },
  {
   "cell_type": "code",
   "execution_count": 15,
   "id": "bca10ccc",
   "metadata": {},
   "outputs": [],
   "source": [
    "# Splitting into Training and Testing Sets\n",
    "X = data[column_names].values\n",
    "y = data['Price'].values\n",
    "\n",
    "X_train, X_test, y_train, y_test = train_test_split(X, y, test_size=0.2, random_state=42)"
   ]
  },
  {
   "cell_type": "code",
   "execution_count": 16,
   "id": "05c86979",
   "metadata": {},
   "outputs": [],
   "source": [
    "# # Split the data into features and target variable\n",
    "# X = data.drop('Price', axis=1)\n",
    "# y = data['Price']"
   ]
  },
  {
   "cell_type": "code",
   "execution_count": 17,
   "id": "71eea063",
   "metadata": {},
   "outputs": [],
   "source": [
    "# # Split the data into training and testing sets\n",
    "# X_train, X_test, y_train, y_test = train_test_split(X, y, test_size=0.2, random_state=42)"
   ]
  },
  {
   "cell_type": "code",
   "execution_count": 33,
   "id": "333128ed",
   "metadata": {},
   "outputs": [],
   "source": [
    "# Linear Regression\n",
    "linear_regression = LinearRegression()\n",
    "linear_regression.fit(X_train, y_train)\n",
    "linear_regression_predictions = linear_regression.predict(X_test)\n",
    "linear_regression_mse = mean_squared_error(y_test, linear_regression_predictions)\n",
    "linear_regression_r2 = 1 - (linear_regression_mse / y_test.var())"
   ]
  },
  {
   "cell_type": "code",
   "execution_count": 34,
   "id": "24e5d221",
   "metadata": {},
   "outputs": [],
   "source": [
    "# Decision Tree Regression\n",
    "decision_tree = DecisionTreeRegressor()\n",
    "decision_tree.fit(X_train, y_train)\n",
    "decision_tree_predictions = decision_tree.predict(X_test)\n",
    "decision_tree_mse = mean_squared_error(y_test, decision_tree_predictions)\n",
    "decision_tree_r2 = 1 - (decision_tree_mse / y_test.var())"
   ]
  },
  {
   "cell_type": "code",
   "execution_count": 35,
   "id": "2aab986b",
   "metadata": {},
   "outputs": [],
   "source": [
    "# Random Forest Regression\n",
    "random_forest = RandomForestRegressor()\n",
    "random_forest.fit(X_train, y_train)\n",
    "random_forest_predictions = random_forest.predict(X_test)\n",
    "random_forest_mse = mean_squared_error(y_test, random_forest_predictions)\n",
    "random_forest_r2 = 1 - (random_forest_mse / y_test.var())"
   ]
  },
  {
   "cell_type": "code",
   "execution_count": 37,
   "id": "a7b130aa",
   "metadata": {
    "scrolled": true
   },
   "outputs": [
    {
     "name": "stdout",
     "output_type": "stream",
     "text": [
      "Linear Regression R-squared: 0.6205189361087049\n",
      "Decision Tree R-squared: 0.1842456274087112\n",
      "Random Forest R-squared: 0.758404430721425\n"
     ]
    }
   ],
   "source": [
    "# Evaluate the models\n",
    "print(\"Linear Regression R-squared:\", linear_regression_r2)\n",
    "print(\"Decision Tree R-squared:\", decision_tree_r2)\n",
    "print(\"Random Forest R-squared:\", random_forest_r2)"
   ]
  },
  {
   "cell_type": "code",
   "execution_count": 38,
   "id": "afa38c39",
   "metadata": {},
   "outputs": [],
   "source": [
    "\n",
    "random_forest = RandomForestRegressor()\n",
    "random_forest.fit(X_train, y_train)\n",
    "random_forest_predictions = random_forest.predict(X_test)\n",
    "random_forest_mse = mean_squared_error(y_test, random_forest_predictions)\n"
   ]
  },
  {
   "cell_type": "code",
   "execution_count": 39,
   "id": "c9f6c4c9",
   "metadata": {},
   "outputs": [
    {
     "data": {
      "image/png": "[encoded data removed]",
      "text/plain": [
       "<Figure size 1000x600 with 1 Axes>"
      ]
     },
     "metadata": {},
     "output_type": "display_data"
    }
   ],
   "source": [
    "# Plot the predictions\n",
    "plt.figure(figsize=(10, 6))\n",
    "plt.scatter(y_test, linear_regression_predictions, label='Linear Regression')\n",
    "plt.scatter(y_test, decision_tree_predictions, label='Decision Tree')\n",
    "plt.scatter(y_test, random_forest_predictions, label='Random Forest')\n",
    "plt.xlabel('Actual Price - in $1000s')\n",
    "plt.ylabel('Predicted Price - in $1000s')\n",
    "plt.title('House Price Prediction')\n",
    "plt.legend()\n",
    "plt.show()"
   ]
  },
  {
   "cell_type": "code",
   "execution_count": null,
   "id": "502e22e7",
   "metadata": {},
   "outputs": [],
   "source": [
    "#Random forest has least amount of outliers"
   ]
  }
 ],
 "metadata": {
  "kernelspec": {
   "display_name": "Python 3 (ipykernel)",
   "language": "python",
   "name": "python3"
  },
  "language_info": {
   "codemirror_mode": {
    "name": "ipython",
    "version": 3
   },
   "file_extension": ".py",
   "mimetype": "text/x-python",
   "name": "python",
   "nbconvert_exporter": "python",
   "pygments_lexer": "ipython3",
   "version": "3.10.13"
  }
 },
 "nbformat": 4,
 "nbformat_minor": 5
}
