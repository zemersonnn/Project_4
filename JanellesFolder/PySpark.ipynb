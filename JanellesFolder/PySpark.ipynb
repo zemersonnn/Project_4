{
 "cells": [
  {
   "cell_type": "code",
   "execution_count": 2,
   "id": "d9b2fa9e",
   "metadata": {},
   "outputs": [
    {
     "name": "stderr",
     "output_type": "stream",
     "text": [
      "Setting default log level to \"WARN\".\n",
      "To adjust logging level use sc.setLogLevel(newLevel). For SparkR, use setLogLevel(newLevel).\n",
      "24/03/21 19:29:20 WARN NativeCodeLoader: Unable to load native-hadoop library for your platform... using builtin-java classes where applicable\n",
      "24/03/21 19:29:21 WARN Utils: Service 'SparkUI' could not bind on port 4040. Attempting port 4041.\n"
     ]
    },
    {
     "name": "stdout",
     "output_type": "stream",
     "text": [
      "+---------+---------+---------+---------+---------+---------+---------+---------+---------+---------+----------+----------+----------+------+\n",
      "|feature_0|feature_1|feature_2|feature_3|feature_4|feature_5|feature_6|feature_7|feature_8|feature_9|feature_10|feature_11|feature_12|target|\n",
      "+---------+---------+---------+---------+---------+---------+---------+---------+---------+---------+----------+----------+----------+------+\n",
      "|  1.23247|      0.0|     8.14|      0.0|    0.538|    6.142|     91.7|   3.9769|      4.0|    307.0|      21.0|     396.9|     18.72|  15.2|\n",
      "|  0.02177|     82.5|     2.03|      0.0|    0.415|     7.61|     15.7|     6.27|      2.0|    348.0|      14.7|    395.38|      3.11|  42.3|\n",
      "|  4.89822|      0.0|     18.1|      0.0|    0.631|     4.97|    100.0|   1.3325|     24.0|    666.0|      20.2|    375.52|      3.26|  50.0|\n",
      "|  0.03961|      0.0|     5.19|      0.0|    0.515|    6.037|     34.5|   5.9853|      5.0|    224.0|      20.2|     396.9|      8.01|  21.1|\n",
      "|  3.69311|      0.0|     18.1|      0.0|    0.713|    6.376|     88.4|   2.5671|     24.0|    666.0|      20.2|    391.43|     14.65|  17.7|\n",
      "|  0.28392|      0.0|     7.38|      0.0|    0.493|    5.708|     74.3|   4.7211|      5.0|    287.0|      19.6|    391.13|     11.74|  18.5|\n",
      "|  9.18702|      0.0|     18.1|      0.0|      0.7|    5.536|    100.0|   1.5804|     24.0|    666.0|      20.2|     396.9|      23.6|  11.3|\n",
      "|   4.0974|      0.0|    19.58|      0.0|    0.871|    5.468|    100.0|   1.4118|      5.0|    403.0|      14.7|     396.9|     26.42|  15.6|\n",
      "|  2.15505|      0.0|    19.58|      0.0|    0.871|    5.628|    100.0|   1.5166|      5.0|    403.0|      14.7|    169.27|     16.65|  15.6|\n",
      "|  1.62864|      0.0|    21.89|      0.0|    0.624|    5.019|    100.0|   1.4394|      4.0|    437.0|      21.2|     396.9|     34.41|  14.4|\n",
      "|  9.59571|      0.0|     18.1|      0.0|    0.693|    6.404|    100.0|    1.639|     24.0|    666.0|      20.2|    376.11|     20.31|  12.1|\n",
      "|   18.811|      0.0|     18.1|      0.0|    0.597|    4.628|    100.0|   1.5539|     24.0|    666.0|      20.2|     28.79|     34.37|  17.9|\n",
      "|  0.13914|      0.0|     4.05|      0.0|     0.51|    5.572|     88.5|   2.5961|      5.0|    296.0|      16.6|     396.9|     14.69|  23.1|\n",
      "|  3.83684|      0.0|     18.1|      0.0|     0.77|    6.251|     91.1|   2.2955|     24.0|    666.0|      20.2|    350.65|     14.19|  19.9|\n",
      "|  0.38735|      0.0|    25.65|      0.0|    0.581|    5.613|     95.6|   1.7572|      2.0|    188.0|      19.1|    359.29|     27.26|  15.7|\n",
      "|  73.5341|      0.0|     18.1|      0.0|    0.679|    5.957|    100.0|   1.8026|     24.0|    666.0|      20.2|     16.45|     20.62|   8.8|\n",
      "|  6.53876|      0.0|     18.1|      1.0|    0.631|    7.016|     97.5|   1.2024|     24.0|    666.0|      20.2|    392.05|      2.96|  50.0|\n",
      "|  0.06466|     70.0|     2.24|      0.0|      0.4|    6.345|     20.1|   7.8278|      5.0|    358.0|      14.8|    368.24|      4.97|  22.5|\n",
      "|  0.03445|     82.5|     2.03|      0.0|    0.415|    6.162|     38.4|     6.27|      2.0|    348.0|      14.7|    393.77|      7.43|  24.1|\n",
      "|  0.14866|      0.0|     8.56|      0.0|     0.52|    6.727|     79.9|   2.7778|      5.0|    384.0|      20.9|    394.76|      9.42|  27.5|\n",
      "+---------+---------+---------+---------+---------+---------+---------+---------+---------+---------+----------+----------+----------+------+\n",
      "only showing top 20 rows\n",
      "\n"
     ]
    }
   ],
   "source": [
    "from pyspark.sql import SparkSession\n",
    "\n",
    "# Initialize SparkSession\n",
    "spark = SparkSession.builder.getOrCreate()\n",
    "\n",
    "# Load the Boston Housing dataset using TensorFlow\n",
    "(train_data, train_targets), (test_data, test_targets) = boston_housing.load_data()\n",
    "\n",
    "# Combine the features and targets into a single DataFrame\n",
    "data = pd.DataFrame(data=train_data, columns=[\"feature_\" + str(i) for i in range(train_data.shape[1])])\n",
    "data[\"target\"] = train_targets\n",
    "\n",
    "# Save the combined data as a CSV file\n",
    "data.to_csv(\"boston_housing.csv\", index=False)\n",
    "\n",
    "# Read the CSV file into a PySpark DataFrame\n",
    "df = spark.read.csv(\"boston_housing.csv\", header=True, inferSchema=True)\n",
    "\n",
    "# Show the DataFrame\n",
    "df.show()"
   ]
  },
  {
   "cell_type": "code",
   "execution_count": null,
   "id": "5d7f7c74",
   "metadata": {},
   "outputs": [],
   "source": []
  }
 ],
 "metadata": {
  "kernelspec": {
   "display_name": "Python 3 (ipykernel)",
   "language": "python",
   "name": "python3"
  },
  "language_info": {
   "codemirror_mode": {
    "name": "ipython",
    "version": 3
   },
   "file_extension": ".py",
   "mimetype": "text/x-python",
   "name": "python",
   "nbconvert_exporter": "python",
   "pygments_lexer": "ipython3",
   "version": "3.10.13"
  }
 },
 "nbformat": 4,
 "nbformat_minor": 5
}
